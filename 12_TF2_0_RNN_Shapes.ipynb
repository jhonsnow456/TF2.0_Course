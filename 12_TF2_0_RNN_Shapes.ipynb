{
  "nbformat": 4,
  "nbformat_minor": 0,
  "metadata": {
    "colab": {
      "provenance": [],
      "authorship_tag": "ABX9TyMwX3xH+s0TqerOQZ2uRqdY",
      "include_colab_link": true
    },
    "kernelspec": {
      "name": "python3",
      "display_name": "Python 3"
    },
    "language_info": {
      "name": "python"
    }
  },
  "cells": [
    {
      "cell_type": "markdown",
      "metadata": {
        "id": "view-in-github",
        "colab_type": "text"
      },
      "source": [
        "<a href=\"https://colab.research.google.com/github/jhonsnow456/Tensorflow2-Project/blob/master/12_TF2_0_RNN_Shapes.ipynb\" target=\"_parent\"><img src=\"https://colab.research.google.com/assets/colab-badge.svg\" alt=\"Open In Colab\"/></a>"
      ]
    },
    {
      "cell_type": "code",
      "execution_count": 1,
      "metadata": {
        "id": "EA2mgDTwV65A"
      },
      "outputs": [],
      "source": [
        "from tensorflow.keras.layers import Input, SimpleRNN, Dense, Flatten\n",
        "from tensorflow.keras.models import Model\n",
        "from tensorflow.keras.optimizers import SGD, Adam\n",
        "\n",
        "import numpy as np\n",
        "import pandas as pd\n",
        "import matplotlib.pyplot as plt"
      ]
    },
    {
      "cell_type": "markdown",
      "source": [
        "Things to memorized\n",
        "- N = number of samples\n",
        "- T = sequence length\n",
        "- D = number of input features\n",
        "- M = number of hidden units\n",
        "- K = number of output units"
      ],
      "metadata": {
        "id": "kvcm8TRsWVHk"
      }
    },
    {
      "cell_type": "code",
      "source": [
        "# Make some data\n",
        "N = 1\n",
        "T = 10\n",
        "D = 3\n",
        "K = 2\n",
        "X = np.random.randn(N, T, D)"
      ],
      "metadata": {
        "id": "jkqH-ubuWSWj"
      },
      "execution_count": 2,
      "outputs": []
    },
    {
      "cell_type": "code",
      "source": [
        "# Make an RNN\n",
        "M = 5 # number of hidden units\n",
        "i = Input(shape=(T, D))\n",
        "x = SimpleRNN(M)(i)\n",
        "x = Dense(K)(x)\n",
        "\n",
        "model = Model(i, x)"
      ],
      "metadata": {
        "id": "SE639LIYWoWX"
      },
      "execution_count": 3,
      "outputs": []
    },
    {
      "cell_type": "code",
      "source": [
        "# Get the output\n",
        "Yhat = model.predict(X)\n",
        "print(Yhat)"
      ],
      "metadata": {
        "colab": {
          "base_uri": "https://localhost:8080/"
        },
        "id": "j6Uyj45BWqpR",
        "outputId": "253078dc-cefe-4b26-988e-8f02a992fc0a"
      },
      "execution_count": 4,
      "outputs": [
        {
          "output_type": "stream",
          "name": "stdout",
          "text": [
            "[[-0.58164245 -0.3218967 ]]\n"
          ]
        }
      ]
    },
    {
      "cell_type": "code",
      "source": [
        "# See if we can replicate this output\n",
        "# Get the weights first\n",
        "model.summary()"
      ],
      "metadata": {
        "colab": {
          "base_uri": "https://localhost:8080/"
        },
        "id": "eQtTWS3QWs95",
        "outputId": "045110e7-4320-4c35-b616-1ad81887d680"
      },
      "execution_count": 5,
      "outputs": [
        {
          "output_type": "stream",
          "name": "stdout",
          "text": [
            "Model: \"model\"\n",
            "_________________________________________________________________\n",
            " Layer (type)                Output Shape              Param #   \n",
            "=================================================================\n",
            " input_1 (InputLayer)        [(None, 10, 3)]           0         \n",
            "                                                                 \n",
            " simple_rnn (SimpleRNN)      (None, 5)                 45        \n",
            "                                                                 \n",
            " dense (Dense)               (None, 2)                 12        \n",
            "                                                                 \n",
            "=================================================================\n",
            "Total params: 57\n",
            "Trainable params: 57\n",
            "Non-trainable params: 0\n",
            "_________________________________________________________________\n"
          ]
        }
      ]
    },
    {
      "cell_type": "code",
      "source": [
        "# See what's returned\n",
        "model.layers[1].get_weights()"
      ],
      "metadata": {
        "colab": {
          "base_uri": "https://localhost:8080/"
        },
        "id": "PQhBdvBCWwWo",
        "outputId": "bd89f16b-8baf-40de-cd1f-717ae448f6ca"
      },
      "execution_count": 6,
      "outputs": [
        {
          "output_type": "execute_result",
          "data": {
            "text/plain": [
              "[array([[-0.7502379 , -0.40153864,  0.53017646,  0.1959818 , -0.27029246],\n",
              "        [-0.1308667 , -0.861454  , -0.4305393 , -0.6083976 , -0.4037275 ],\n",
              "        [ 0.77346665, -0.6025198 , -0.5644443 ,  0.38364273,  0.46468025]],\n",
              "       dtype=float32),\n",
              " array([[-0.46615195, -0.34697974, -0.63064253,  0.08938015, -0.50656563],\n",
              "        [-0.3436481 ,  0.07090758,  0.18660013, -0.90907794, -0.12504351],\n",
              "        [-0.74943817,  0.11480781,  0.518468  ,  0.39385855,  0.03504227],\n",
              "        [ 0.31021926,  0.07879107,  0.41889042,  0.09107047, -0.84486264],\n",
              "        [-0.08194432,  0.924764  , -0.3509874 ,  0.04658479, -0.11284713]],\n",
              "       dtype=float32),\n",
              " array([0., 0., 0., 0., 0.], dtype=float32)]"
            ]
          },
          "metadata": {},
          "execution_count": 6
        }
      ]
    },
    {
      "cell_type": "code",
      "source": [
        "# Check their shapes\n",
        "# Should make sense\n",
        "# First output is input > hidden\n",
        "# Second output is hidden > hidden\n",
        "# Third output is bias term (vector of length M)\n",
        "a, b, c = model.layers[1].get_weights()\n",
        "print(a.shape, b.shape, c.shape)"
      ],
      "metadata": {
        "colab": {
          "base_uri": "https://localhost:8080/"
        },
        "id": "BPYbI3FZW0Ix",
        "outputId": "c4ac34a9-bf20-4274-9090-5fe066ca6e26"
      },
      "execution_count": 7,
      "outputs": [
        {
          "output_type": "stream",
          "name": "stdout",
          "text": [
            "(3, 5) (5, 5) (5,)\n"
          ]
        }
      ]
    },
    {
      "cell_type": "code",
      "source": [
        "Wx, Wh, bh = model.layers[1].get_weights()\n",
        "Wo, bo = model.layers[2].get_weights()"
      ],
      "metadata": {
        "id": "jjVPFILtXKLn"
      },
      "execution_count": 8,
      "outputs": []
    },
    {
      "cell_type": "code",
      "source": [
        "h_last = np.zeros(M) # initial hidden state\n",
        "x = X[0] # the one and only sample\n",
        "Yhats = [] # where we store the outputs\n",
        "\n",
        "for t in range(T):\n",
        "  h = np.tanh(x[t].dot(Wx) + h_last.dot(Wh) + bh)\n",
        "  y = h.dot(Wo) + bo # we only care about this value on the last iteration\n",
        "  Yhats.append(y)\n",
        "  \n",
        "  # important: assign h to h_last\n",
        "  h_last = h\n",
        "\n",
        "# print the final output\n",
        "print(Yhats[-1])"
      ],
      "metadata": {
        "colab": {
          "base_uri": "https://localhost:8080/"
        },
        "id": "hGWe4MTJXdnn",
        "outputId": "76f9bd57-b76e-43dc-a568-054b0ab214c1"
      },
      "execution_count": 9,
      "outputs": [
        {
          "output_type": "stream",
          "name": "stdout",
          "text": [
            "[-0.58164249 -0.32189676]\n"
          ]
        }
      ]
    }
  ]
}