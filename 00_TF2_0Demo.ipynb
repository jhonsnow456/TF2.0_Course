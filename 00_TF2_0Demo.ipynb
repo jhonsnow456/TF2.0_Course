{
  "nbformat": 4,
  "nbformat_minor": 0,
  "metadata": {
    "colab": {
      "provenance": [],
      "authorship_tag": "ABX9TyPmccI+4o+euKVBWRz1m7G0",
      "include_colab_link": true
    },
    "kernelspec": {
      "name": "python3",
      "display_name": "Python 3"
    },
    "language_info": {
      "name": "python"
    }
  },
  "cells": [
    {
      "cell_type": "markdown",
      "metadata": {
        "id": "view-in-github",
        "colab_type": "text"
      },
      "source": [
        "<a href=\"https://colab.research.google.com/github/jhonsnow456/TF2.0_Course/blob/master/00_TF2_0Demo.ipynb\" target=\"_parent\"><img src=\"https://colab.research.google.com/assets/colab-badge.svg\" alt=\"Open In Colab\"/></a>"
      ]
    },
    {
      "cell_type": "markdown",
      "source": [
        "This is a demo file to check the dependencies for building application over colab"
      ],
      "metadata": {
        "id": "htpBsF1U7JyC"
      }
    },
    {
      "cell_type": "code",
      "execution_count": null,
      "metadata": {
        "id": "UPZSLy604Qvu"
      },
      "outputs": [],
      "source": [
        "import sklearn\n",
        "import numpy\n",
        "import scipy\n",
        "import matplotlib\n",
        "import pandas\n",
        "import torch\n",
        "import seaborn\n",
        "import wordcloud\n",
        "import bs4\n",
        "import requests\n",
        "import networkx\n",
        "import cv2\n",
        "import gym"
      ]
    },
    {
      "cell_type": "code",
      "source": [
        "print (sklearn.__version__)\n",
        "print (numpy.__version__)\n",
        "print (scipy.__version__)\n",
        "print (matplotlib.__version__)\n",
        "print (pandas.__version__)\n",
        "print (torch.__version__)\n",
        "print (seaborn.__version__)\n",
        "print (wordcloud.__version__)\n",
        "print (bs4.__version__)\n",
        "print (requests.__version__)\n",
        "print (networkx.__version__)\n",
        "print (cv2.__version__)\n",
        "print (gym.__version__)"
      ],
      "metadata": {
        "colab": {
          "base_uri": "https://localhost:8080/"
        },
        "id": "lHSafWMu5jtv",
        "outputId": "db5c3f91-e494-4962-d90e-eb793f7fce1b"
      },
      "execution_count": null,
      "outputs": [
        {
          "output_type": "stream",
          "name": "stdout",
          "text": [
            "1.0.2\n",
            "1.21.6\n",
            "1.7.3\n",
            "3.2.2\n",
            "1.3.5\n",
            "1.12.1+cu113\n",
            "0.11.2\n",
            "1.8.2.2\n",
            "4.6.3\n",
            "2.23.0\n",
            "2.6.3\n",
            "4.6.0\n",
            "0.25.2\n"
          ]
        }
      ]
    }
  ]
}