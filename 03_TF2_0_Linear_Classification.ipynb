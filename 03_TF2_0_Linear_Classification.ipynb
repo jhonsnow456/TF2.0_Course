{
  "nbformat": 4,
  "nbformat_minor": 0,
  "metadata": {
    "colab": {
      "provenance": [],
      "collapsed_sections": [],
      "authorship_tag": "ABX9TyMAl18Pz4uj4hpZdyW6/3HC",
      "include_colab_link": true
    },
    "kernelspec": {
      "name": "python3",
      "display_name": "Python 3"
    },
    "language_info": {
      "name": "python"
    }
  },
  "cells": [
    {
      "cell_type": "markdown",
      "metadata": {
        "id": "view-in-github",
        "colab_type": "text"
      },
      "source": [
        "<a href=\"https://colab.research.google.com/github/jhonsnow456/TF2.0_Course/blob/master/03_TF2_0_Linear_Classification.ipynb\" target=\"_parent\"><img src=\"https://colab.research.google.com/assets/colab-badge.svg\" alt=\"Open In Colab\"/></a>"
      ]
    },
    {
      "cell_type": "markdown",
      "source": [
        "# Part 1"
      ],
      "metadata": {
        "id": "nOGstX7WaeVS"
      }
    },
    {
      "cell_type": "code",
      "execution_count": 1,
      "metadata": {
        "colab": {
          "base_uri": "https://localhost:8080/"
        },
        "id": "iCVrLuiRcDhY",
        "outputId": "5e27087b-239d-4afc-ac4d-d1c83286b70e"
      },
      "outputs": [
        {
          "output_type": "stream",
          "name": "stdout",
          "text": [
            "2.8.2\n"
          ]
        }
      ],
      "source": [
        "import tensorflow as tf\n",
        "\n",
        "print(tf.__version__)"
      ]
    },
    {
      "cell_type": "code",
      "source": [
        "from sklearn.datasets import load_breast_cancer"
      ],
      "metadata": {
        "id": "mw6o074jc02d"
      },
      "execution_count": 2,
      "outputs": []
    },
    {
      "cell_type": "code",
      "source": [
        "data = load_breast_cancer()"
      ],
      "metadata": {
        "id": "FQY_0i3zdFdG"
      },
      "execution_count": 3,
      "outputs": []
    },
    {
      "cell_type": "code",
      "source": [
        "data"
      ],
      "metadata": {
        "colab": {
          "base_uri": "https://localhost:8080/"
        },
        "id": "rUhj_ibHeoKv",
        "outputId": "ea157524-d5a3-4b3b-90db-33c54a56ae00"
      },
      "execution_count": 4,
      "outputs": [
        {
          "output_type": "execute_result",
          "data": {
            "text/plain": [
              "{'data': array([[1.799e+01, 1.038e+01, 1.228e+02, ..., 2.654e-01, 4.601e-01,\n",
              "         1.189e-01],\n",
              "        [2.057e+01, 1.777e+01, 1.329e+02, ..., 1.860e-01, 2.750e-01,\n",
              "         8.902e-02],\n",
              "        [1.969e+01, 2.125e+01, 1.300e+02, ..., 2.430e-01, 3.613e-01,\n",
              "         8.758e-02],\n",
              "        ...,\n",
              "        [1.660e+01, 2.808e+01, 1.083e+02, ..., 1.418e-01, 2.218e-01,\n",
              "         7.820e-02],\n",
              "        [2.060e+01, 2.933e+01, 1.401e+02, ..., 2.650e-01, 4.087e-01,\n",
              "         1.240e-01],\n",
              "        [7.760e+00, 2.454e+01, 4.792e+01, ..., 0.000e+00, 2.871e-01,\n",
              "         7.039e-02]]),\n",
              " 'target': array([0, 0, 0, 0, 0, 0, 0, 0, 0, 0, 0, 0, 0, 0, 0, 0, 0, 0, 0, 1, 1, 1,\n",
              "        0, 0, 0, 0, 0, 0, 0, 0, 0, 0, 0, 0, 0, 0, 0, 1, 0, 0, 0, 0, 0, 0,\n",
              "        0, 0, 1, 0, 1, 1, 1, 1, 1, 0, 0, 1, 0, 0, 1, 1, 1, 1, 0, 1, 0, 0,\n",
              "        1, 1, 1, 1, 0, 1, 0, 0, 1, 0, 1, 0, 0, 1, 1, 1, 0, 0, 1, 0, 0, 0,\n",
              "        1, 1, 1, 0, 1, 1, 0, 0, 1, 1, 1, 0, 0, 1, 1, 1, 1, 0, 1, 1, 0, 1,\n",
              "        1, 1, 1, 1, 1, 1, 1, 0, 0, 0, 1, 0, 0, 1, 1, 1, 0, 0, 1, 0, 1, 0,\n",
              "        0, 1, 0, 0, 1, 1, 0, 1, 1, 0, 1, 1, 1, 1, 0, 1, 1, 1, 1, 1, 1, 1,\n",
              "        1, 1, 0, 1, 1, 1, 1, 0, 0, 1, 0, 1, 1, 0, 0, 1, 1, 0, 0, 1, 1, 1,\n",
              "        1, 0, 1, 1, 0, 0, 0, 1, 0, 1, 0, 1, 1, 1, 0, 1, 1, 0, 0, 1, 0, 0,\n",
              "        0, 0, 1, 0, 0, 0, 1, 0, 1, 0, 1, 1, 0, 1, 0, 0, 0, 0, 1, 1, 0, 0,\n",
              "        1, 1, 1, 0, 1, 1, 1, 1, 1, 0, 0, 1, 1, 0, 1, 1, 0, 0, 1, 0, 1, 1,\n",
              "        1, 1, 0, 1, 1, 1, 1, 1, 0, 1, 0, 0, 0, 0, 0, 0, 0, 0, 0, 0, 0, 0,\n",
              "        0, 0, 1, 1, 1, 1, 1, 1, 0, 1, 0, 1, 1, 0, 1, 1, 0, 1, 0, 0, 1, 1,\n",
              "        1, 1, 1, 1, 1, 1, 1, 1, 1, 1, 1, 0, 1, 1, 0, 1, 0, 1, 1, 1, 1, 1,\n",
              "        1, 1, 1, 1, 1, 1, 1, 1, 1, 0, 1, 1, 1, 0, 1, 0, 1, 1, 1, 1, 0, 0,\n",
              "        0, 1, 1, 1, 1, 0, 1, 0, 1, 0, 1, 1, 1, 0, 1, 1, 1, 1, 1, 1, 1, 0,\n",
              "        0, 0, 1, 1, 1, 1, 1, 1, 1, 1, 1, 1, 1, 0, 0, 1, 0, 0, 0, 1, 0, 0,\n",
              "        1, 1, 1, 1, 1, 0, 1, 1, 1, 1, 1, 0, 1, 1, 1, 0, 1, 1, 0, 0, 1, 1,\n",
              "        1, 1, 1, 1, 0, 1, 1, 1, 1, 1, 1, 1, 0, 1, 1, 1, 1, 1, 0, 1, 1, 0,\n",
              "        1, 1, 1, 1, 1, 1, 1, 1, 1, 1, 1, 1, 0, 1, 0, 0, 1, 0, 1, 1, 1, 1,\n",
              "        1, 0, 1, 1, 0, 1, 0, 1, 1, 0, 1, 0, 1, 1, 1, 1, 1, 1, 1, 1, 0, 0,\n",
              "        1, 1, 1, 1, 1, 1, 0, 1, 1, 1, 1, 1, 1, 1, 1, 1, 1, 0, 1, 1, 1, 1,\n",
              "        1, 1, 1, 0, 1, 0, 1, 1, 0, 1, 1, 1, 1, 1, 0, 0, 1, 0, 1, 0, 1, 1,\n",
              "        1, 1, 1, 0, 1, 1, 0, 1, 0, 1, 0, 0, 1, 1, 1, 0, 1, 1, 1, 1, 1, 1,\n",
              "        1, 1, 1, 1, 1, 0, 1, 0, 0, 1, 1, 1, 1, 1, 1, 1, 1, 1, 1, 1, 1, 1,\n",
              "        1, 1, 1, 1, 1, 1, 1, 1, 1, 1, 1, 1, 0, 0, 0, 0, 0, 0, 1]),\n",
              " 'frame': None,\n",
              " 'target_names': array(['malignant', 'benign'], dtype='<U9'),\n",
              " 'DESCR': '.. _breast_cancer_dataset:\\n\\nBreast cancer wisconsin (diagnostic) dataset\\n--------------------------------------------\\n\\n**Data Set Characteristics:**\\n\\n    :Number of Instances: 569\\n\\n    :Number of Attributes: 30 numeric, predictive attributes and the class\\n\\n    :Attribute Information:\\n        - radius (mean of distances from center to points on the perimeter)\\n        - texture (standard deviation of gray-scale values)\\n        - perimeter\\n        - area\\n        - smoothness (local variation in radius lengths)\\n        - compactness (perimeter^2 / area - 1.0)\\n        - concavity (severity of concave portions of the contour)\\n        - concave points (number of concave portions of the contour)\\n        - symmetry\\n        - fractal dimension (\"coastline approximation\" - 1)\\n\\n        The mean, standard error, and \"worst\" or largest (mean of the three\\n        worst/largest values) of these features were computed for each image,\\n        resulting in 30 features.  For instance, field 0 is Mean Radius, field\\n        10 is Radius SE, field 20 is Worst Radius.\\n\\n        - class:\\n                - WDBC-Malignant\\n                - WDBC-Benign\\n\\n    :Summary Statistics:\\n\\n    ===================================== ====== ======\\n                                           Min    Max\\n    ===================================== ====== ======\\n    radius (mean):                        6.981  28.11\\n    texture (mean):                       9.71   39.28\\n    perimeter (mean):                     43.79  188.5\\n    area (mean):                          143.5  2501.0\\n    smoothness (mean):                    0.053  0.163\\n    compactness (mean):                   0.019  0.345\\n    concavity (mean):                     0.0    0.427\\n    concave points (mean):                0.0    0.201\\n    symmetry (mean):                      0.106  0.304\\n    fractal dimension (mean):             0.05   0.097\\n    radius (standard error):              0.112  2.873\\n    texture (standard error):             0.36   4.885\\n    perimeter (standard error):           0.757  21.98\\n    area (standard error):                6.802  542.2\\n    smoothness (standard error):          0.002  0.031\\n    compactness (standard error):         0.002  0.135\\n    concavity (standard error):           0.0    0.396\\n    concave points (standard error):      0.0    0.053\\n    symmetry (standard error):            0.008  0.079\\n    fractal dimension (standard error):   0.001  0.03\\n    radius (worst):                       7.93   36.04\\n    texture (worst):                      12.02  49.54\\n    perimeter (worst):                    50.41  251.2\\n    area (worst):                         185.2  4254.0\\n    smoothness (worst):                   0.071  0.223\\n    compactness (worst):                  0.027  1.058\\n    concavity (worst):                    0.0    1.252\\n    concave points (worst):               0.0    0.291\\n    symmetry (worst):                     0.156  0.664\\n    fractal dimension (worst):            0.055  0.208\\n    ===================================== ====== ======\\n\\n    :Missing Attribute Values: None\\n\\n    :Class Distribution: 212 - Malignant, 357 - Benign\\n\\n    :Creator:  Dr. William H. Wolberg, W. Nick Street, Olvi L. Mangasarian\\n\\n    :Donor: Nick Street\\n\\n    :Date: November, 1995\\n\\nThis is a copy of UCI ML Breast Cancer Wisconsin (Diagnostic) datasets.\\nhttps://goo.gl/U2Uwz2\\n\\nFeatures are computed from a digitized image of a fine needle\\naspirate (FNA) of a breast mass.  They describe\\ncharacteristics of the cell nuclei present in the image.\\n\\nSeparating plane described above was obtained using\\nMultisurface Method-Tree (MSM-T) [K. P. Bennett, \"Decision Tree\\nConstruction Via Linear Programming.\" Proceedings of the 4th\\nMidwest Artificial Intelligence and Cognitive Science Society,\\npp. 97-101, 1992], a classification method which uses linear\\nprogramming to construct a decision tree.  Relevant features\\nwere selected using an exhaustive search in the space of 1-4\\nfeatures and 1-3 separating planes.\\n\\nThe actual linear program used to obtain the separating plane\\nin the 3-dimensional space is that described in:\\n[K. P. Bennett and O. L. Mangasarian: \"Robust Linear\\nProgramming Discrimination of Two Linearly Inseparable Sets\",\\nOptimization Methods and Software 1, 1992, 23-34].\\n\\nThis database is also available through the UW CS ftp server:\\n\\nftp ftp.cs.wisc.edu\\ncd math-prog/cpo-dataset/machine-learn/WDBC/\\n\\n.. topic:: References\\n\\n   - W.N. Street, W.H. Wolberg and O.L. Mangasarian. Nuclear feature extraction \\n     for breast tumor diagnosis. IS&T/SPIE 1993 International Symposium on \\n     Electronic Imaging: Science and Technology, volume 1905, pages 861-870,\\n     San Jose, CA, 1993.\\n   - O.L. Mangasarian, W.N. Street and W.H. Wolberg. Breast cancer diagnosis and \\n     prognosis via linear programming. Operations Research, 43(4), pages 570-577, \\n     July-August 1995.\\n   - W.H. Wolberg, W.N. Street, and O.L. Mangasarian. Machine learning techniques\\n     to diagnose breast cancer from fine-needle aspirates. Cancer Letters 77 (1994) \\n     163-171.',\n",
              " 'feature_names': array(['mean radius', 'mean texture', 'mean perimeter', 'mean area',\n",
              "        'mean smoothness', 'mean compactness', 'mean concavity',\n",
              "        'mean concave points', 'mean symmetry', 'mean fractal dimension',\n",
              "        'radius error', 'texture error', 'perimeter error', 'area error',\n",
              "        'smoothness error', 'compactness error', 'concavity error',\n",
              "        'concave points error', 'symmetry error',\n",
              "        'fractal dimension error', 'worst radius', 'worst texture',\n",
              "        'worst perimeter', 'worst area', 'worst smoothness',\n",
              "        'worst compactness', 'worst concavity', 'worst concave points',\n",
              "        'worst symmetry', 'worst fractal dimension'], dtype='<U23'),\n",
              " 'filename': 'breast_cancer.csv',\n",
              " 'data_module': 'sklearn.datasets.data'}"
            ]
          },
          "metadata": {},
          "execution_count": 4
        }
      ]
    },
    {
      "cell_type": "code",
      "source": [
        "type(data)"
      ],
      "metadata": {
        "colab": {
          "base_uri": "https://localhost:8080/"
        },
        "id": "AErCsY2rdKG2",
        "outputId": "ce5b49fc-b49e-4569-c07d-f427c567fecf"
      },
      "execution_count": 5,
      "outputs": [
        {
          "output_type": "execute_result",
          "data": {
            "text/plain": [
              "sklearn.utils.Bunch"
            ]
          },
          "metadata": {},
          "execution_count": 5
        }
      ]
    },
    {
      "cell_type": "code",
      "source": [
        "data.keys()"
      ],
      "metadata": {
        "colab": {
          "base_uri": "https://localhost:8080/"
        },
        "id": "rb71LjZadM51",
        "outputId": "2bcebe96-f647-4a57-fbdb-10c4afbdecf6"
      },
      "execution_count": 6,
      "outputs": [
        {
          "output_type": "execute_result",
          "data": {
            "text/plain": [
              "dict_keys(['data', 'target', 'frame', 'target_names', 'DESCR', 'feature_names', 'filename', 'data_module'])"
            ]
          },
          "metadata": {},
          "execution_count": 6
        }
      ]
    },
    {
      "cell_type": "code",
      "source": [
        "data.feature_names"
      ],
      "metadata": {
        "colab": {
          "base_uri": "https://localhost:8080/"
        },
        "id": "IivcmOF2eAG0",
        "outputId": "68be5904-842d-46fc-c5e9-eb89168e9a55"
      },
      "execution_count": 7,
      "outputs": [
        {
          "output_type": "execute_result",
          "data": {
            "text/plain": [
              "array(['mean radius', 'mean texture', 'mean perimeter', 'mean area',\n",
              "       'mean smoothness', 'mean compactness', 'mean concavity',\n",
              "       'mean concave points', 'mean symmetry', 'mean fractal dimension',\n",
              "       'radius error', 'texture error', 'perimeter error', 'area error',\n",
              "       'smoothness error', 'compactness error', 'concavity error',\n",
              "       'concave points error', 'symmetry error',\n",
              "       'fractal dimension error', 'worst radius', 'worst texture',\n",
              "       'worst perimeter', 'worst area', 'worst smoothness',\n",
              "       'worst compactness', 'worst concavity', 'worst concave points',\n",
              "       'worst symmetry', 'worst fractal dimension'], dtype='<U23')"
            ]
          },
          "metadata": {},
          "execution_count": 7
        }
      ]
    },
    {
      "cell_type": "code",
      "source": [
        "data.data"
      ],
      "metadata": {
        "colab": {
          "base_uri": "https://localhost:8080/"
        },
        "id": "S7QTnkzme7Rz",
        "outputId": "bfae94bb-e117-4b67-f0ce-73ae319b4851"
      },
      "execution_count": 8,
      "outputs": [
        {
          "output_type": "execute_result",
          "data": {
            "text/plain": [
              "array([[1.799e+01, 1.038e+01, 1.228e+02, ..., 2.654e-01, 4.601e-01,\n",
              "        1.189e-01],\n",
              "       [2.057e+01, 1.777e+01, 1.329e+02, ..., 1.860e-01, 2.750e-01,\n",
              "        8.902e-02],\n",
              "       [1.969e+01, 2.125e+01, 1.300e+02, ..., 2.430e-01, 3.613e-01,\n",
              "        8.758e-02],\n",
              "       ...,\n",
              "       [1.660e+01, 2.808e+01, 1.083e+02, ..., 1.418e-01, 2.218e-01,\n",
              "        7.820e-02],\n",
              "       [2.060e+01, 2.933e+01, 1.401e+02, ..., 2.650e-01, 4.087e-01,\n",
              "        1.240e-01],\n",
              "       [7.760e+00, 2.454e+01, 4.792e+01, ..., 0.000e+00, 2.871e-01,\n",
              "        7.039e-02]])"
            ]
          },
          "metadata": {},
          "execution_count": 8
        }
      ]
    },
    {
      "cell_type": "code",
      "source": [
        "data.data.shape"
      ],
      "metadata": {
        "colab": {
          "base_uri": "https://localhost:8080/"
        },
        "id": "nSp5z36edRAO",
        "outputId": "3a1b4c96-6896-4c6e-906c-35c8fb531454"
      },
      "execution_count": 9,
      "outputs": [
        {
          "output_type": "execute_result",
          "data": {
            "text/plain": [
              "(569, 30)"
            ]
          },
          "metadata": {},
          "execution_count": 9
        }
      ]
    },
    {
      "cell_type": "code",
      "source": [
        "data.target_names"
      ],
      "metadata": {
        "colab": {
          "base_uri": "https://localhost:8080/"
        },
        "id": "jhgmkxMkd5Hn",
        "outputId": "5412b7b3-05f7-4427-9637-dde8b0fc6328"
      },
      "execution_count": 10,
      "outputs": [
        {
          "output_type": "execute_result",
          "data": {
            "text/plain": [
              "array(['malignant', 'benign'], dtype='<U9')"
            ]
          },
          "metadata": {},
          "execution_count": 10
        }
      ]
    },
    {
      "cell_type": "code",
      "source": [
        "data.target"
      ],
      "metadata": {
        "colab": {
          "base_uri": "https://localhost:8080/"
        },
        "id": "GmhTRAbHdsyW",
        "outputId": "956adec2-721c-4769-fa59-a83288f4a84f"
      },
      "execution_count": 11,
      "outputs": [
        {
          "output_type": "execute_result",
          "data": {
            "text/plain": [
              "array([0, 0, 0, 0, 0, 0, 0, 0, 0, 0, 0, 0, 0, 0, 0, 0, 0, 0, 0, 1, 1, 1,\n",
              "       0, 0, 0, 0, 0, 0, 0, 0, 0, 0, 0, 0, 0, 0, 0, 1, 0, 0, 0, 0, 0, 0,\n",
              "       0, 0, 1, 0, 1, 1, 1, 1, 1, 0, 0, 1, 0, 0, 1, 1, 1, 1, 0, 1, 0, 0,\n",
              "       1, 1, 1, 1, 0, 1, 0, 0, 1, 0, 1, 0, 0, 1, 1, 1, 0, 0, 1, 0, 0, 0,\n",
              "       1, 1, 1, 0, 1, 1, 0, 0, 1, 1, 1, 0, 0, 1, 1, 1, 1, 0, 1, 1, 0, 1,\n",
              "       1, 1, 1, 1, 1, 1, 1, 0, 0, 0, 1, 0, 0, 1, 1, 1, 0, 0, 1, 0, 1, 0,\n",
              "       0, 1, 0, 0, 1, 1, 0, 1, 1, 0, 1, 1, 1, 1, 0, 1, 1, 1, 1, 1, 1, 1,\n",
              "       1, 1, 0, 1, 1, 1, 1, 0, 0, 1, 0, 1, 1, 0, 0, 1, 1, 0, 0, 1, 1, 1,\n",
              "       1, 0, 1, 1, 0, 0, 0, 1, 0, 1, 0, 1, 1, 1, 0, 1, 1, 0, 0, 1, 0, 0,\n",
              "       0, 0, 1, 0, 0, 0, 1, 0, 1, 0, 1, 1, 0, 1, 0, 0, 0, 0, 1, 1, 0, 0,\n",
              "       1, 1, 1, 0, 1, 1, 1, 1, 1, 0, 0, 1, 1, 0, 1, 1, 0, 0, 1, 0, 1, 1,\n",
              "       1, 1, 0, 1, 1, 1, 1, 1, 0, 1, 0, 0, 0, 0, 0, 0, 0, 0, 0, 0, 0, 0,\n",
              "       0, 0, 1, 1, 1, 1, 1, 1, 0, 1, 0, 1, 1, 0, 1, 1, 0, 1, 0, 0, 1, 1,\n",
              "       1, 1, 1, 1, 1, 1, 1, 1, 1, 1, 1, 0, 1, 1, 0, 1, 0, 1, 1, 1, 1, 1,\n",
              "       1, 1, 1, 1, 1, 1, 1, 1, 1, 0, 1, 1, 1, 0, 1, 0, 1, 1, 1, 1, 0, 0,\n",
              "       0, 1, 1, 1, 1, 0, 1, 0, 1, 0, 1, 1, 1, 0, 1, 1, 1, 1, 1, 1, 1, 0,\n",
              "       0, 0, 1, 1, 1, 1, 1, 1, 1, 1, 1, 1, 1, 0, 0, 1, 0, 0, 0, 1, 0, 0,\n",
              "       1, 1, 1, 1, 1, 0, 1, 1, 1, 1, 1, 0, 1, 1, 1, 0, 1, 1, 0, 0, 1, 1,\n",
              "       1, 1, 1, 1, 0, 1, 1, 1, 1, 1, 1, 1, 0, 1, 1, 1, 1, 1, 0, 1, 1, 0,\n",
              "       1, 1, 1, 1, 1, 1, 1, 1, 1, 1, 1, 1, 0, 1, 0, 0, 1, 0, 1, 1, 1, 1,\n",
              "       1, 0, 1, 1, 0, 1, 0, 1, 1, 0, 1, 0, 1, 1, 1, 1, 1, 1, 1, 1, 0, 0,\n",
              "       1, 1, 1, 1, 1, 1, 0, 1, 1, 1, 1, 1, 1, 1, 1, 1, 1, 0, 1, 1, 1, 1,\n",
              "       1, 1, 1, 0, 1, 0, 1, 1, 0, 1, 1, 1, 1, 1, 0, 0, 1, 0, 1, 0, 1, 1,\n",
              "       1, 1, 1, 0, 1, 1, 0, 1, 0, 1, 0, 0, 1, 1, 1, 0, 1, 1, 1, 1, 1, 1,\n",
              "       1, 1, 1, 1, 1, 0, 1, 0, 0, 1, 1, 1, 1, 1, 1, 1, 1, 1, 1, 1, 1, 1,\n",
              "       1, 1, 1, 1, 1, 1, 1, 1, 1, 1, 1, 1, 0, 0, 0, 0, 0, 0, 1])"
            ]
          },
          "metadata": {},
          "execution_count": 11
        }
      ]
    },
    {
      "cell_type": "code",
      "source": [
        "data.target.shape"
      ],
      "metadata": {
        "colab": {
          "base_uri": "https://localhost:8080/"
        },
        "id": "ZNFEYPxreaX9",
        "outputId": "9d12c109-4831-494e-dafb-e48b871d906c"
      },
      "execution_count": 12,
      "outputs": [
        {
          "output_type": "execute_result",
          "data": {
            "text/plain": [
              "(569,)"
            ]
          },
          "metadata": {},
          "execution_count": 12
        }
      ]
    },
    {
      "cell_type": "code",
      "source": [
        "from sklearn.model_selection import train_test_split\n",
        "\n",
        "X_train, X_test, y_train, y_test = train_test_split(data.data, data.target, test_size=0.33)\n",
        "N, D = X_train.shape"
      ],
      "metadata": {
        "id": "ne895S0JeF68"
      },
      "execution_count": 13,
      "outputs": []
    },
    {
      "cell_type": "code",
      "source": [
        "from sklearn.preprocessing import StandardScaler\n",
        "\n",
        "scaler = StandardScaler()\n",
        "X_train = scaler.fit_transform(X_train)\n",
        "X_test = scaler.transform(X_test)"
      ],
      "metadata": {
        "id": "e8Lt2YFaf6zL"
      },
      "execution_count": 14,
      "outputs": []
    },
    {
      "cell_type": "code",
      "source": [
        "# method 1 : best practise\n",
        "\n",
        "model = tf.keras.models.Sequential([\n",
        "    tf.keras.layers.Input(shape = (D, )), # input neuron\n",
        "    tf.keras.layers.Dense(1, activation='sigmoid'), # output nuron with activation function\n",
        "])\n",
        "\n",
        "# mehod 2\n",
        "# Dense(1, input_shape = (D, ), activation='sigmoid') : \n",
        "# 1 -> output neuron, input_shape -> input nueron, activation -> activation function for output neuron\n",
        "\n",
        "# model = tf.keras.models.Sequential([\n",
        "#     tf.keras.layers.Dense(1, input_shape = (D, ), activation='sigmoid'),\n",
        "# ])\n",
        "\n",
        "model.compile(optimizer = 'adam',\n",
        "              loss = 'binary_crossentropy',\n",
        "              metrics = ['accuracy'])\n",
        "\n",
        "r = model.fit(X_train, y_train, validation_data =(X_test, y_test), epochs=100)\n",
        "\n",
        "print('Train Score: ', model.evaluate(X_train, y_train))\n",
        "print('Test Score: ', model.evaluate(X_test, y_test))"
      ],
      "metadata": {
        "colab": {
          "base_uri": "https://localhost:8080/"
        },
        "id": "mt8NA4EewNYr",
        "outputId": "322e8cb7-e592-448d-9980-189f018ee8d2"
      },
      "execution_count": 15,
      "outputs": [
        {
          "output_type": "stream",
          "name": "stdout",
          "text": [
            "Epoch 1/100\n",
            "12/12 [==============================] - 0s 14ms/step - loss: 1.2699 - accuracy: 0.3123 - val_loss: 1.1995 - val_accuracy: 0.3138\n",
            "Epoch 2/100\n",
            "12/12 [==============================] - 0s 3ms/step - loss: 1.1492 - accuracy: 0.3491 - val_loss: 1.0907 - val_accuracy: 0.3564\n",
            "Epoch 3/100\n",
            "12/12 [==============================] - 0s 3ms/step - loss: 1.0388 - accuracy: 0.3911 - val_loss: 0.9891 - val_accuracy: 0.3777\n",
            "Epoch 4/100\n",
            "12/12 [==============================] - 0s 4ms/step - loss: 0.9399 - accuracy: 0.4226 - val_loss: 0.8940 - val_accuracy: 0.4255\n",
            "Epoch 5/100\n",
            "12/12 [==============================] - 0s 3ms/step - loss: 0.8473 - accuracy: 0.4698 - val_loss: 0.8097 - val_accuracy: 0.4840\n",
            "Epoch 6/100\n",
            "12/12 [==============================] - 0s 3ms/step - loss: 0.7670 - accuracy: 0.5171 - val_loss: 0.7341 - val_accuracy: 0.5585\n",
            "Epoch 7/100\n",
            "12/12 [==============================] - 0s 4ms/step - loss: 0.6948 - accuracy: 0.5591 - val_loss: 0.6678 - val_accuracy: 0.6011\n",
            "Epoch 8/100\n",
            "12/12 [==============================] - 0s 3ms/step - loss: 0.6325 - accuracy: 0.6037 - val_loss: 0.6095 - val_accuracy: 0.6543\n",
            "Epoch 9/100\n",
            "12/12 [==============================] - 0s 3ms/step - loss: 0.5795 - accuracy: 0.6772 - val_loss: 0.5580 - val_accuracy: 0.6968\n",
            "Epoch 10/100\n",
            "12/12 [==============================] - 0s 2ms/step - loss: 0.5324 - accuracy: 0.7428 - val_loss: 0.5144 - val_accuracy: 0.7819\n",
            "Epoch 11/100\n",
            "12/12 [==============================] - 0s 2ms/step - loss: 0.4930 - accuracy: 0.7822 - val_loss: 0.4769 - val_accuracy: 0.8085\n",
            "Epoch 12/100\n",
            "12/12 [==============================] - 0s 3ms/step - loss: 0.4587 - accuracy: 0.8189 - val_loss: 0.4449 - val_accuracy: 0.8245\n",
            "Epoch 13/100\n",
            "12/12 [==============================] - 0s 3ms/step - loss: 0.4293 - accuracy: 0.8530 - val_loss: 0.4172 - val_accuracy: 0.8670\n",
            "Epoch 14/100\n",
            "12/12 [==============================] - 0s 3ms/step - loss: 0.4039 - accuracy: 0.8688 - val_loss: 0.3931 - val_accuracy: 0.8830\n",
            "Epoch 15/100\n",
            "12/12 [==============================] - 0s 3ms/step - loss: 0.3809 - accuracy: 0.8924 - val_loss: 0.3727 - val_accuracy: 0.8936\n",
            "Epoch 16/100\n",
            "12/12 [==============================] - 0s 3ms/step - loss: 0.3618 - accuracy: 0.9055 - val_loss: 0.3544 - val_accuracy: 0.8989\n",
            "Epoch 17/100\n",
            "12/12 [==============================] - 0s 2ms/step - loss: 0.3441 - accuracy: 0.9134 - val_loss: 0.3385 - val_accuracy: 0.9309\n",
            "Epoch 18/100\n",
            "12/12 [==============================] - 0s 3ms/step - loss: 0.3288 - accuracy: 0.9265 - val_loss: 0.3242 - val_accuracy: 0.9255\n",
            "Epoch 19/100\n",
            "12/12 [==============================] - 0s 3ms/step - loss: 0.3146 - accuracy: 0.9318 - val_loss: 0.3120 - val_accuracy: 0.9202\n",
            "Epoch 20/100\n",
            "12/12 [==============================] - 0s 3ms/step - loss: 0.3024 - accuracy: 0.9318 - val_loss: 0.3008 - val_accuracy: 0.9202\n",
            "Epoch 21/100\n",
            "12/12 [==============================] - 0s 3ms/step - loss: 0.2912 - accuracy: 0.9370 - val_loss: 0.2908 - val_accuracy: 0.9255\n",
            "Epoch 22/100\n",
            "12/12 [==============================] - 0s 2ms/step - loss: 0.2810 - accuracy: 0.9423 - val_loss: 0.2817 - val_accuracy: 0.9202\n",
            "Epoch 23/100\n",
            "12/12 [==============================] - 0s 2ms/step - loss: 0.2716 - accuracy: 0.9501 - val_loss: 0.2735 - val_accuracy: 0.9202\n",
            "Epoch 24/100\n",
            "12/12 [==============================] - 0s 3ms/step - loss: 0.2629 - accuracy: 0.9501 - val_loss: 0.2662 - val_accuracy: 0.9202\n",
            "Epoch 25/100\n",
            "12/12 [==============================] - 0s 2ms/step - loss: 0.2551 - accuracy: 0.9501 - val_loss: 0.2594 - val_accuracy: 0.9202\n",
            "Epoch 26/100\n",
            "12/12 [==============================] - 0s 2ms/step - loss: 0.2478 - accuracy: 0.9501 - val_loss: 0.2532 - val_accuracy: 0.9255\n",
            "Epoch 27/100\n",
            "12/12 [==============================] - 0s 2ms/step - loss: 0.2411 - accuracy: 0.9501 - val_loss: 0.2474 - val_accuracy: 0.9309\n",
            "Epoch 28/100\n",
            "12/12 [==============================] - 0s 2ms/step - loss: 0.2348 - accuracy: 0.9501 - val_loss: 0.2421 - val_accuracy: 0.9309\n",
            "Epoch 29/100\n",
            "12/12 [==============================] - 0s 3ms/step - loss: 0.2288 - accuracy: 0.9501 - val_loss: 0.2372 - val_accuracy: 0.9309\n",
            "Epoch 30/100\n",
            "12/12 [==============================] - 0s 2ms/step - loss: 0.2234 - accuracy: 0.9528 - val_loss: 0.2327 - val_accuracy: 0.9309\n",
            "Epoch 31/100\n",
            "12/12 [==============================] - 0s 2ms/step - loss: 0.2181 - accuracy: 0.9528 - val_loss: 0.2284 - val_accuracy: 0.9362\n",
            "Epoch 32/100\n",
            "12/12 [==============================] - 0s 3ms/step - loss: 0.2134 - accuracy: 0.9554 - val_loss: 0.2243 - val_accuracy: 0.9362\n",
            "Epoch 33/100\n",
            "12/12 [==============================] - 0s 2ms/step - loss: 0.2087 - accuracy: 0.9554 - val_loss: 0.2205 - val_accuracy: 0.9362\n",
            "Epoch 34/100\n",
            "12/12 [==============================] - 0s 2ms/step - loss: 0.2043 - accuracy: 0.9528 - val_loss: 0.2170 - val_accuracy: 0.9362\n",
            "Epoch 35/100\n",
            "12/12 [==============================] - 0s 3ms/step - loss: 0.2003 - accuracy: 0.9528 - val_loss: 0.2136 - val_accuracy: 0.9362\n",
            "Epoch 36/100\n",
            "12/12 [==============================] - 0s 2ms/step - loss: 0.1964 - accuracy: 0.9554 - val_loss: 0.2104 - val_accuracy: 0.9362\n",
            "Epoch 37/100\n",
            "12/12 [==============================] - 0s 3ms/step - loss: 0.1926 - accuracy: 0.9554 - val_loss: 0.2074 - val_accuracy: 0.9362\n",
            "Epoch 38/100\n",
            "12/12 [==============================] - 0s 3ms/step - loss: 0.1891 - accuracy: 0.9554 - val_loss: 0.2045 - val_accuracy: 0.9362\n",
            "Epoch 39/100\n",
            "12/12 [==============================] - 0s 3ms/step - loss: 0.1857 - accuracy: 0.9554 - val_loss: 0.2018 - val_accuracy: 0.9362\n",
            "Epoch 40/100\n",
            "12/12 [==============================] - 0s 3ms/step - loss: 0.1825 - accuracy: 0.9554 - val_loss: 0.1992 - val_accuracy: 0.9362\n",
            "Epoch 41/100\n",
            "12/12 [==============================] - 0s 3ms/step - loss: 0.1794 - accuracy: 0.9554 - val_loss: 0.1968 - val_accuracy: 0.9362\n",
            "Epoch 42/100\n",
            "12/12 [==============================] - 0s 4ms/step - loss: 0.1765 - accuracy: 0.9554 - val_loss: 0.1944 - val_accuracy: 0.9362\n",
            "Epoch 43/100\n",
            "12/12 [==============================] - 0s 3ms/step - loss: 0.1736 - accuracy: 0.9554 - val_loss: 0.1920 - val_accuracy: 0.9309\n",
            "Epoch 44/100\n",
            "12/12 [==============================] - 0s 3ms/step - loss: 0.1709 - accuracy: 0.9554 - val_loss: 0.1899 - val_accuracy: 0.9309\n",
            "Epoch 45/100\n",
            "12/12 [==============================] - 0s 3ms/step - loss: 0.1683 - accuracy: 0.9554 - val_loss: 0.1878 - val_accuracy: 0.9309\n",
            "Epoch 46/100\n",
            "12/12 [==============================] - 0s 3ms/step - loss: 0.1658 - accuracy: 0.9554 - val_loss: 0.1857 - val_accuracy: 0.9309\n",
            "Epoch 47/100\n",
            "12/12 [==============================] - 0s 3ms/step - loss: 0.1634 - accuracy: 0.9580 - val_loss: 0.1839 - val_accuracy: 0.9309\n",
            "Epoch 48/100\n",
            "12/12 [==============================] - 0s 3ms/step - loss: 0.1610 - accuracy: 0.9580 - val_loss: 0.1820 - val_accuracy: 0.9309\n",
            "Epoch 49/100\n",
            "12/12 [==============================] - 0s 3ms/step - loss: 0.1588 - accuracy: 0.9580 - val_loss: 0.1802 - val_accuracy: 0.9309\n",
            "Epoch 50/100\n",
            "12/12 [==============================] - 0s 3ms/step - loss: 0.1566 - accuracy: 0.9580 - val_loss: 0.1784 - val_accuracy: 0.9309\n",
            "Epoch 51/100\n",
            "12/12 [==============================] - 0s 3ms/step - loss: 0.1545 - accuracy: 0.9580 - val_loss: 0.1768 - val_accuracy: 0.9362\n",
            "Epoch 52/100\n",
            "12/12 [==============================] - 0s 3ms/step - loss: 0.1526 - accuracy: 0.9580 - val_loss: 0.1752 - val_accuracy: 0.9362\n",
            "Epoch 53/100\n",
            "12/12 [==============================] - 0s 3ms/step - loss: 0.1506 - accuracy: 0.9580 - val_loss: 0.1736 - val_accuracy: 0.9362\n",
            "Epoch 54/100\n",
            "12/12 [==============================] - 0s 4ms/step - loss: 0.1487 - accuracy: 0.9606 - val_loss: 0.1721 - val_accuracy: 0.9362\n",
            "Epoch 55/100\n",
            "12/12 [==============================] - 0s 3ms/step - loss: 0.1469 - accuracy: 0.9606 - val_loss: 0.1706 - val_accuracy: 0.9362\n",
            "Epoch 56/100\n",
            "12/12 [==============================] - 0s 3ms/step - loss: 0.1451 - accuracy: 0.9633 - val_loss: 0.1692 - val_accuracy: 0.9362\n",
            "Epoch 57/100\n",
            "12/12 [==============================] - 0s 3ms/step - loss: 0.1435 - accuracy: 0.9633 - val_loss: 0.1679 - val_accuracy: 0.9362\n",
            "Epoch 58/100\n",
            "12/12 [==============================] - 0s 3ms/step - loss: 0.1417 - accuracy: 0.9633 - val_loss: 0.1665 - val_accuracy: 0.9362\n",
            "Epoch 59/100\n",
            "12/12 [==============================] - 0s 4ms/step - loss: 0.1401 - accuracy: 0.9659 - val_loss: 0.1652 - val_accuracy: 0.9362\n",
            "Epoch 60/100\n",
            "12/12 [==============================] - 0s 4ms/step - loss: 0.1385 - accuracy: 0.9659 - val_loss: 0.1639 - val_accuracy: 0.9362\n",
            "Epoch 61/100\n",
            "12/12 [==============================] - 0s 3ms/step - loss: 0.1370 - accuracy: 0.9659 - val_loss: 0.1627 - val_accuracy: 0.9362\n",
            "Epoch 62/100\n",
            "12/12 [==============================] - 0s 4ms/step - loss: 0.1355 - accuracy: 0.9685 - val_loss: 0.1615 - val_accuracy: 0.9362\n",
            "Epoch 63/100\n",
            "12/12 [==============================] - 0s 3ms/step - loss: 0.1341 - accuracy: 0.9685 - val_loss: 0.1604 - val_accuracy: 0.9362\n",
            "Epoch 64/100\n",
            "12/12 [==============================] - 0s 3ms/step - loss: 0.1327 - accuracy: 0.9685 - val_loss: 0.1593 - val_accuracy: 0.9362\n",
            "Epoch 65/100\n",
            "12/12 [==============================] - 0s 3ms/step - loss: 0.1313 - accuracy: 0.9685 - val_loss: 0.1582 - val_accuracy: 0.9415\n",
            "Epoch 66/100\n",
            "12/12 [==============================] - 0s 3ms/step - loss: 0.1300 - accuracy: 0.9659 - val_loss: 0.1572 - val_accuracy: 0.9415\n",
            "Epoch 67/100\n",
            "12/12 [==============================] - 0s 3ms/step - loss: 0.1287 - accuracy: 0.9659 - val_loss: 0.1560 - val_accuracy: 0.9415\n",
            "Epoch 68/100\n",
            "12/12 [==============================] - 0s 3ms/step - loss: 0.1275 - accuracy: 0.9685 - val_loss: 0.1550 - val_accuracy: 0.9415\n",
            "Epoch 69/100\n",
            "12/12 [==============================] - 0s 3ms/step - loss: 0.1262 - accuracy: 0.9685 - val_loss: 0.1541 - val_accuracy: 0.9415\n",
            "Epoch 70/100\n",
            "12/12 [==============================] - 0s 3ms/step - loss: 0.1250 - accuracy: 0.9711 - val_loss: 0.1531 - val_accuracy: 0.9415\n",
            "Epoch 71/100\n",
            "12/12 [==============================] - 0s 3ms/step - loss: 0.1238 - accuracy: 0.9711 - val_loss: 0.1522 - val_accuracy: 0.9415\n",
            "Epoch 72/100\n",
            "12/12 [==============================] - 0s 3ms/step - loss: 0.1228 - accuracy: 0.9711 - val_loss: 0.1513 - val_accuracy: 0.9415\n",
            "Epoch 73/100\n",
            "12/12 [==============================] - 0s 4ms/step - loss: 0.1217 - accuracy: 0.9711 - val_loss: 0.1503 - val_accuracy: 0.9415\n",
            "Epoch 74/100\n",
            "12/12 [==============================] - 0s 3ms/step - loss: 0.1205 - accuracy: 0.9711 - val_loss: 0.1495 - val_accuracy: 0.9415\n",
            "Epoch 75/100\n",
            "12/12 [==============================] - 0s 3ms/step - loss: 0.1195 - accuracy: 0.9711 - val_loss: 0.1486 - val_accuracy: 0.9415\n",
            "Epoch 76/100\n",
            "12/12 [==============================] - 0s 4ms/step - loss: 0.1184 - accuracy: 0.9711 - val_loss: 0.1478 - val_accuracy: 0.9415\n",
            "Epoch 77/100\n",
            "12/12 [==============================] - 0s 4ms/step - loss: 0.1175 - accuracy: 0.9711 - val_loss: 0.1469 - val_accuracy: 0.9415\n",
            "Epoch 78/100\n",
            "12/12 [==============================] - 0s 3ms/step - loss: 0.1164 - accuracy: 0.9738 - val_loss: 0.1462 - val_accuracy: 0.9415\n",
            "Epoch 79/100\n",
            "12/12 [==============================] - 0s 3ms/step - loss: 0.1155 - accuracy: 0.9738 - val_loss: 0.1454 - val_accuracy: 0.9415\n",
            "Epoch 80/100\n",
            "12/12 [==============================] - 0s 3ms/step - loss: 0.1146 - accuracy: 0.9738 - val_loss: 0.1446 - val_accuracy: 0.9415\n",
            "Epoch 81/100\n",
            "12/12 [==============================] - 0s 3ms/step - loss: 0.1136 - accuracy: 0.9738 - val_loss: 0.1439 - val_accuracy: 0.9415\n",
            "Epoch 82/100\n",
            "12/12 [==============================] - 0s 4ms/step - loss: 0.1127 - accuracy: 0.9738 - val_loss: 0.1432 - val_accuracy: 0.9415\n",
            "Epoch 83/100\n",
            "12/12 [==============================] - 0s 3ms/step - loss: 0.1118 - accuracy: 0.9738 - val_loss: 0.1426 - val_accuracy: 0.9415\n",
            "Epoch 84/100\n",
            "12/12 [==============================] - 0s 3ms/step - loss: 0.1110 - accuracy: 0.9738 - val_loss: 0.1418 - val_accuracy: 0.9415\n",
            "Epoch 85/100\n",
            "12/12 [==============================] - 0s 3ms/step - loss: 0.1101 - accuracy: 0.9738 - val_loss: 0.1411 - val_accuracy: 0.9415\n",
            "Epoch 86/100\n",
            "12/12 [==============================] - 0s 3ms/step - loss: 0.1093 - accuracy: 0.9738 - val_loss: 0.1404 - val_accuracy: 0.9468\n",
            "Epoch 87/100\n",
            "12/12 [==============================] - 0s 3ms/step - loss: 0.1085 - accuracy: 0.9738 - val_loss: 0.1398 - val_accuracy: 0.9468\n",
            "Epoch 88/100\n",
            "12/12 [==============================] - 0s 3ms/step - loss: 0.1077 - accuracy: 0.9738 - val_loss: 0.1392 - val_accuracy: 0.9468\n",
            "Epoch 89/100\n",
            "12/12 [==============================] - 0s 3ms/step - loss: 0.1069 - accuracy: 0.9738 - val_loss: 0.1384 - val_accuracy: 0.9468\n",
            "Epoch 90/100\n",
            "12/12 [==============================] - 0s 3ms/step - loss: 0.1062 - accuracy: 0.9738 - val_loss: 0.1378 - val_accuracy: 0.9468\n",
            "Epoch 91/100\n",
            "12/12 [==============================] - 0s 4ms/step - loss: 0.1053 - accuracy: 0.9738 - val_loss: 0.1372 - val_accuracy: 0.9468\n",
            "Epoch 92/100\n",
            "12/12 [==============================] - 0s 3ms/step - loss: 0.1046 - accuracy: 0.9738 - val_loss: 0.1367 - val_accuracy: 0.9468\n",
            "Epoch 93/100\n",
            "12/12 [==============================] - 0s 3ms/step - loss: 0.1039 - accuracy: 0.9738 - val_loss: 0.1362 - val_accuracy: 0.9468\n",
            "Epoch 94/100\n",
            "12/12 [==============================] - 0s 3ms/step - loss: 0.1032 - accuracy: 0.9738 - val_loss: 0.1356 - val_accuracy: 0.9468\n",
            "Epoch 95/100\n",
            "12/12 [==============================] - 0s 3ms/step - loss: 0.1025 - accuracy: 0.9764 - val_loss: 0.1350 - val_accuracy: 0.9468\n",
            "Epoch 96/100\n",
            "12/12 [==============================] - 0s 3ms/step - loss: 0.1018 - accuracy: 0.9764 - val_loss: 0.1345 - val_accuracy: 0.9468\n",
            "Epoch 97/100\n",
            "12/12 [==============================] - 0s 3ms/step - loss: 0.1012 - accuracy: 0.9764 - val_loss: 0.1339 - val_accuracy: 0.9521\n",
            "Epoch 98/100\n",
            "12/12 [==============================] - 0s 3ms/step - loss: 0.1005 - accuracy: 0.9790 - val_loss: 0.1334 - val_accuracy: 0.9521\n",
            "Epoch 99/100\n",
            "12/12 [==============================] - 0s 2ms/step - loss: 0.0999 - accuracy: 0.9790 - val_loss: 0.1329 - val_accuracy: 0.9521\n",
            "Epoch 100/100\n",
            "12/12 [==============================] - 0s 4ms/step - loss: 0.0992 - accuracy: 0.9790 - val_loss: 0.1324 - val_accuracy: 0.9521\n",
            "12/12 [==============================] - 0s 1ms/step - loss: 0.0989 - accuracy: 0.9790\n",
            "Train Score:  [0.09887176752090454, 0.9790025949478149]\n",
            "6/6 [==============================] - 0s 2ms/step - loss: 0.1324 - accuracy: 0.9521\n",
            "Test Score:  [0.1324198842048645, 0.9521276354789734]\n"
          ]
        }
      ]
    },
    {
      "cell_type": "code",
      "source": [
        "import matplotlib.pyplot as plt\n",
        "\n",
        "plt.plot(r.history['loss'], label='loss')\n",
        "plt.plot(r.history['val_loss'], label='val_loss')\n",
        "\n",
        "plt.legend()"
      ],
      "metadata": {
        "colab": {
          "base_uri": "https://localhost:8080/",
          "height": 282
        },
        "id": "wu_htwxvzUqn",
        "outputId": "ea2ab214-0d7b-427d-dbda-3a44d5d8e408"
      },
      "execution_count": 16,
      "outputs": [
        {
          "output_type": "execute_result",
          "data": {
            "text/plain": [
              "<matplotlib.legend.Legend at 0x7fc2c0ee3450>"
            ]
          },
          "metadata": {},
          "execution_count": 16
        },
        {
          "output_type": "display_data",
          "data": {
            "text/plain": [
              "<Figure size 432x288 with 1 Axes>"
            ],
            "image/png": "[encoded data removed]"
          },
          "metadata": {
            "needs_background": "light"
          }
        }
      ]
    },
    {
      "cell_type": "code",
      "source": [
        "plt.plot(r.history['accuracy'], label='acc')\n",
        "plt.plot(r.history['val_accuracy'], label='val_acc')\n",
        "\n",
        "plt.legend()"
      ],
      "metadata": {
        "colab": {
          "base_uri": "https://localhost:8080/",
          "height": 283
        },
        "id": "l-OuhFvTz7ro",
        "outputId": "1c0ded81-4111-4bb6-b209-a5c4ae76d506"
      },
      "execution_count": 17,
      "outputs": [
        {
          "output_type": "execute_result",
          "data": {
            "text/plain": [
              "<matplotlib.legend.Legend at 0x7fc2c0e5abd0>"
            ]
          },
          "metadata": {},
          "execution_count": 17
        },
        {
          "output_type": "display_data",
          "data": {
            "text/plain": [
              "<Figure size 432x288 with 1 Axes>"
            ],
            "image/png": "[encoded data removed]"
          },
          "metadata": {
            "needs_background": "light"
          }
        }
      ]
    },
    {
      "cell_type": "markdown",
      "source": [
        "# Part 2: Prediction"
      ],
      "metadata": {
        "id": "R1UGvHcnaSrs"
      }
    },
    {
      "cell_type": "code",
      "source": [
        "P = model.predict(X_test)\n",
        "print(P) # we are getting a 2D array of dimension N x 1"
      ],
      "metadata": {
        "colab": {
          "base_uri": "https://localhost:8080/"
        },
        "id": "K1Ueg-_waX2W",
        "outputId": "9a25ad95-9d99-4e42-b97b-df8b3a78dca8"
      },
      "execution_count": 18,
      "outputs": [
        {
          "output_type": "stream",
          "name": "stdout",
          "text": [
            "[[2.34559178e-03]\n",
            " [7.23606050e-02]\n",
            " [2.00206041e-03]\n",
            " [5.62858284e-02]\n",
            " [9.99723196e-01]\n",
            " [6.22481108e-04]\n",
            " [3.57615948e-03]\n",
            " [9.87927556e-01]\n",
            " [9.89353299e-01]\n",
            " [7.99262047e-01]\n",
            " [9.96050775e-01]\n",
            " [9.97148275e-01]\n",
            " [9.82133925e-01]\n",
            " [8.50416958e-01]\n",
            " [9.35316324e-01]\n",
            " [9.60993290e-01]\n",
            " [3.81405152e-05]\n",
            " [9.92694259e-01]\n",
            " [9.44307208e-01]\n",
            " [7.48017430e-03]\n",
            " [9.77195203e-01]\n",
            " [7.66396523e-04]\n",
            " [2.61703134e-03]\n",
            " [9.29152608e-01]\n",
            " [1.03116035e-03]\n",
            " [9.30426896e-01]\n",
            " [1.55231953e-02]\n",
            " [6.45408034e-03]\n",
            " [8.86852860e-01]\n",
            " [9.81045246e-01]\n",
            " [9.75648642e-01]\n",
            " [9.62258339e-01]\n",
            " [9.55206096e-01]\n",
            " [7.91379333e-01]\n",
            " [9.99323845e-01]\n",
            " [9.36332762e-01]\n",
            " [1.79850757e-02]\n",
            " [9.65617061e-01]\n",
            " [8.73612523e-01]\n",
            " [9.82402921e-01]\n",
            " [1.04248524e-03]\n",
            " [4.99987602e-03]\n",
            " [9.29268003e-01]\n",
            " [9.16197181e-01]\n",
            " [4.58241403e-01]\n",
            " [3.31807733e-02]\n",
            " [6.74518943e-01]\n",
            " [4.71163601e-01]\n",
            " [9.98440146e-01]\n",
            " [9.86906052e-01]\n",
            " [6.99028611e-01]\n",
            " [9.96779919e-01]\n",
            " [4.77274656e-01]\n",
            " [8.30733418e-01]\n",
            " [1.23177171e-02]\n",
            " [1.68311894e-02]\n",
            " [4.19320166e-02]\n",
            " [9.89065647e-01]\n",
            " [4.23690379e-01]\n",
            " [6.31982982e-01]\n",
            " [9.23026323e-01]\n",
            " [4.21809494e-01]\n",
            " [2.81807125e-01]\n",
            " [8.93523216e-01]\n",
            " [9.78781819e-01]\n",
            " [9.64600682e-01]\n",
            " [9.50227261e-01]\n",
            " [9.35020268e-01]\n",
            " [9.98124838e-01]\n",
            " [9.68790770e-01]\n",
            " [9.68538165e-01]\n",
            " [9.97583687e-01]\n",
            " [2.22246051e-02]\n",
            " [9.80072975e-01]\n",
            " [3.17392051e-02]\n",
            " [9.40262914e-01]\n",
            " [9.32255864e-01]\n",
            " [1.19640827e-02]\n",
            " [9.87903118e-01]\n",
            " [9.99279737e-01]\n",
            " [8.90736818e-01]\n",
            " [5.85658848e-02]\n",
            " [4.41528976e-01]\n",
            " [1.40476525e-02]\n",
            " [1.47614062e-01]\n",
            " [7.02958714e-05]\n",
            " [2.64024734e-03]\n",
            " [1.24752522e-03]\n",
            " [9.62832093e-01]\n",
            " [7.77688503e-01]\n",
            " [1.03971362e-03]\n",
            " [9.94860172e-01]\n",
            " [8.20026875e-01]\n",
            " [1.18092269e-01]\n",
            " [1.04604274e-01]\n",
            " [9.81105268e-01]\n",
            " [5.41649759e-02]\n",
            " [8.05228949e-03]\n",
            " [9.98719990e-01]\n",
            " [9.79457855e-01]\n",
            " [4.61995602e-04]\n",
            " [9.71358836e-01]\n",
            " [9.85525787e-01]\n",
            " [9.83000636e-01]\n",
            " [9.82711613e-01]\n",
            " [1.06475472e-05]\n",
            " [7.18710244e-01]\n",
            " [9.80727077e-01]\n",
            " [9.17181611e-01]\n",
            " [5.02232671e-01]\n",
            " [9.22955394e-01]\n",
            " [5.22775888e-01]\n",
            " [9.72071886e-01]\n",
            " [2.76936591e-02]\n",
            " [9.37467933e-01]\n",
            " [9.60834801e-01]\n",
            " [9.22080755e-01]\n",
            " [9.93430316e-01]\n",
            " [9.72887397e-01]\n",
            " [9.95903194e-01]\n",
            " [8.95362020e-01]\n",
            " [9.99229550e-01]\n",
            " [9.65893090e-01]\n",
            " [3.17326188e-03]\n",
            " [7.88959861e-02]\n",
            " [8.81114185e-01]\n",
            " [9.17869210e-01]\n",
            " [2.85232067e-03]\n",
            " [9.54873800e-01]\n",
            " [1.78582370e-02]\n",
            " [4.18092519e-01]\n",
            " [2.69722044e-01]\n",
            " [9.85536456e-01]\n",
            " [9.81760383e-01]\n",
            " [6.40566230e-01]\n",
            " [4.62045372e-02]\n",
            " [2.40492553e-01]\n",
            " [9.85753894e-01]\n",
            " [1.55022740e-03]\n",
            " [8.54207039e-01]\n",
            " [9.88289833e-01]\n",
            " [3.75265509e-01]\n",
            " [1.80661678e-04]\n",
            " [1.01166964e-02]\n",
            " [4.86584306e-02]\n",
            " [4.04015541e-01]\n",
            " [5.37813008e-02]\n",
            " [2.83023715e-03]\n",
            " [8.68563652e-01]\n",
            " [2.45219469e-03]\n",
            " [5.46127558e-04]\n",
            " [3.68950805e-06]\n",
            " [9.69866514e-01]\n",
            " [5.92982769e-01]\n",
            " [8.89099479e-01]\n",
            " [6.93953812e-01]\n",
            " [9.98702049e-01]\n",
            " [9.94904518e-01]\n",
            " [2.00219959e-01]\n",
            " [7.45421588e-01]\n",
            " [5.48737168e-01]\n",
            " [9.82903957e-01]\n",
            " [8.48893642e-01]\n",
            " [8.48153472e-01]\n",
            " [5.60064700e-06]\n",
            " [9.87419009e-01]\n",
            " [1.43089890e-03]\n",
            " [8.33955169e-01]\n",
            " [9.98647928e-01]\n",
            " [9.75059867e-01]\n",
            " [3.65215510e-01]\n",
            " [9.73426342e-01]\n",
            " [8.84791791e-01]\n",
            " [1.53692663e-02]\n",
            " [1.85668468e-04]\n",
            " [9.72300589e-01]\n",
            " [9.99772429e-01]\n",
            " [9.97343898e-01]\n",
            " [9.85794663e-01]\n",
            " [8.60551476e-01]\n",
            " [9.65207815e-04]\n",
            " [8.71535838e-02]\n",
            " [1.03279948e-02]\n",
            " [2.09152699e-04]\n",
            " [9.50182617e-01]\n",
            " [9.82620120e-01]\n",
            " [4.06970322e-01]\n",
            " [7.50705600e-03]]\n"
          ]
        }
      ]
    },
    {
      "cell_type": "code",
      "source": [
        "import numpy as np\n",
        "\n",
        "P = np.round(P).flatten()\n",
        "print(P)"
      ],
      "metadata": {
        "colab": {
          "base_uri": "https://localhost:8080/"
        },
        "id": "zAzMMCHdb2Ig",
        "outputId": "5ac30bac-7ac4-4b75-bdaa-ed7b88df7f0a"
      },
      "execution_count": 19,
      "outputs": [
        {
          "output_type": "stream",
          "name": "stdout",
          "text": [
            "[0. 0. 0. 0. 1. 0. 0. 1. 1. 1. 1. 1. 1. 1. 1. 1. 0. 1. 1. 0. 1. 0. 0. 1.\n",
            " 0. 1. 0. 0. 1. 1. 1. 1. 1. 1. 1. 1. 0. 1. 1. 1. 0. 0. 1. 1. 0. 0. 1. 0.\n",
            " 1. 1. 1. 1. 0. 1. 0. 0. 0. 1. 0. 1. 1. 0. 0. 1. 1. 1. 1. 1. 1. 1. 1. 1.\n",
            " 0. 1. 0. 1. 1. 0. 1. 1. 1. 0. 0. 0. 0. 0. 0. 0. 1. 1. 0. 1. 1. 0. 0. 1.\n",
            " 0. 0. 1. 1. 0. 1. 1. 1. 1. 0. 1. 1. 1. 1. 1. 1. 1. 0. 1. 1. 1. 1. 1. 1.\n",
            " 1. 1. 1. 0. 0. 1. 1. 0. 1. 0. 0. 0. 1. 1. 1. 0. 0. 1. 0. 1. 1. 0. 0. 0.\n",
            " 0. 0. 0. 0. 1. 0. 0. 0. 1. 1. 1. 1. 1. 1. 0. 1. 1. 1. 1. 1. 0. 1. 0. 1.\n",
            " 1. 1. 0. 1. 1. 0. 0. 1. 1. 1. 1. 1. 0. 0. 0. 0. 1. 1. 0. 0.]\n"
          ]
        }
      ]
    },
    {
      "cell_type": "code",
      "source": [
        "print('Manually calculated Accuracy: ', np.mean(y_test == P))\n",
        "print('Evaluated Output: ', model.evaluate(X_test, y_test))"
      ],
      "metadata": {
        "colab": {
          "base_uri": "https://localhost:8080/"
        },
        "id": "35TIlBiLcL1V",
        "outputId": "93740880-2f23-478e-aeb5-f3e57d301347"
      },
      "execution_count": 20,
      "outputs": [
        {
          "output_type": "stream",
          "name": "stdout",
          "text": [
            "Manually calculated Accuracy:  0.9521276595744681\n",
            "6/6 [==============================] - 0s 2ms/step - loss: 0.1324 - accuracy: 0.9521\n",
            "Evaluated Output:  [0.1324198842048645, 0.9521276354789734]\n"
          ]
        }
      ]
    }
  ]
}